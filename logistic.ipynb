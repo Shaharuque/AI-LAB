{
  "nbformat": 4,
  "nbformat_minor": 0,
  "metadata": {
    "colab": {
      "name": "logistic.ipynb",
      "provenance": [],
      "collapsed_sections": [],
      "include_colab_link": true
    },
    "kernelspec": {
      "name": "python3",
      "display_name": "Python 3"
    }
  },
  "cells": [
    {
      "cell_type": "markdown",
      "metadata": {
        "id": "view-in-github",
        "colab_type": "text"
      },
      "source": [
        "<a href=\"https://colab.research.google.com/github/devshaik444/AI-LAB/blob/master/logistic.ipynb\" target=\"_parent\"><img src=\"https://colab.research.google.com/assets/colab-badge.svg\" alt=\"Open In Colab\"/></a>"
      ]
    },
    {
      "cell_type": "code",
      "metadata": {
        "id": "1AtJUJO5D4k7"
      },
      "source": [
        "from sklearn import datasets\r\n",
        "import numpy as np\r\n",
        "import random\r\n",
        "iris = datasets.load_iris()\r\n",
        "x = iris.data[:, :2]\r\n",
        "y = (iris.target != 0) * 1\r\n",
        "data=x.tolist()\r\n",
        "random.shuffle(y)\r\n",
        "# splitting data\r\n",
        "train_set=[]\r\n",
        "val_set=[]\r\n",
        "test_set=[]\r\n",
        "for s in data:\r\n",
        "  r=random.uniform(0,1)\r\n",
        "  if r>=0 and r<=0.7:\r\n",
        "    train_set.append(s)\r\n",
        "  elif r>0.7 and r<=0.85:\r\n",
        "    val_set.append(s)\r\n",
        "  else:\r\n",
        "    test_set.append(s)\r\n",
        "print(train_set)\r\n",
        "# concat 1 in trainset\r\n",
        "for i in train_set:\r\n",
        "  i.insert(0,1)\r\n",
        "concat_train_set=np.array(train_set)\r\n",
        "print(concat_train_set[0])\r\n",
        "# concat 1 in valset\r\n",
        "for i in val_set:\r\n",
        "  i.insert(0,1)\r\n",
        "concat_val_set=np.array(val_set)\r\n",
        "# concat 1 in testset\r\n",
        "for i in test_set:\r\n",
        "  i.insert(0,1)\r\n",
        "concat_test_set=np.array(test_set)"
      ],
      "execution_count": null,
      "outputs": []
    },
    {
      "cell_type": "code",
      "metadata": {
        "id": "gV5ud70xEDGh"
      },
      "source": [
        "from scipy.stats import logistic\r\n",
        "import math\r\n",
        "train_loss=[]\r\n",
        "theta=np.array([0.3,0.6,0.8])\r\n",
        "for i in range(1000):\r\n",
        "  tj=0\r\n",
        "  c=0\r\n",
        "  for s in concat_train_set:\r\n",
        "    z=theta.dot(s)\r\n",
        "    h=logistic.cdf(z)\r\n",
        "    j=-y[c]*math.log(h)-(1-y[c])*math.log(1-h)\r\n",
        "    tj+=j\r\n",
        "    dv=s.dot(h-y[c])\r\n",
        "    theta=theta-dv*0.00001\r\n",
        "    c+=1\r\n",
        "  tj=tj/len(concat_train_set)\r\n",
        "  train_loss.append(tj)"
      ],
      "execution_count": null,
      "outputs": []
    }
  ]
}