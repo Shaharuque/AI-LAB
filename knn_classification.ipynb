{
  "nbformat": 4,
  "nbformat_minor": 0,
  "metadata": {
    "colab": {
      "name": "knn classification.ipynb",
      "provenance": [],
      "collapsed_sections": [],
      "include_colab_link": true
    },
    "kernelspec": {
      "name": "python3",
      "display_name": "Python 3"
    }
  },
  "cells": [
    {
      "cell_type": "markdown",
      "metadata": {
        "id": "view-in-github",
        "colab_type": "text"
      },
      "source": [
        "<a href=\"https://colab.research.google.com/github/devshaik444/AI-LAB/blob/master/knn_classification.ipynb\" target=\"_parent\"><img src=\"https://colab.research.google.com/assets/colab-badge.svg\" alt=\"Open In Colab\"/></a>"
      ]
    },
    {
      "cell_type": "code",
      "metadata": {
        "id": "fSo7CMkwqSnV"
      },
      "source": [
        ""
      ],
      "execution_count": null,
      "outputs": []
    },
    {
      "cell_type": "code",
      "metadata": {
        "colab": {
          "base_uri": "https://localhost:8080/"
        },
        "id": "PboMmHZTnm4x",
        "outputId": "fff56794-96fe-4eb6-afd0-65a277481419"
      },
      "source": [
        "from google.colab import drive\r\n",
        "from scipy.spatial import distance\r\n",
        "drive.mount('/content/gdrive')\r\n",
        "\r\n"
      ],
      "execution_count": null,
      "outputs": [
        {
          "output_type": "stream",
          "text": [
            "Drive already mounted at /content/gdrive; to attempt to forcibly remount, call drive.mount(\"/content/gdrive\", force_remount=True).\n"
          ],
          "name": "stdout"
        }
      ]
    },
    {
      "cell_type": "code",
      "metadata": {
        "id": "YGAMdWCML1i9"
      },
      "source": [
        "from numpy import genfromtxt\r\n",
        "import random\r\n",
        "import operator\r\n",
        "import statistics \r\n",
        "data_path = '/content/gdrive/MyDrive/Ai Lab/iris.csv'\r\n",
        "my_data = genfromtxt(data_path, delimiter=',')\r\n",
        "\r\n",
        "data = my_data.tolist()\r\n",
        "random.shuffle(data)\r\n",
        "train_set=[]\r\n",
        "val_set=[]\r\n",
        "test_set=[]\r\n",
        "for s in data:\r\n",
        "  r=random.uniform(0,1)\r\n",
        "  if r>=0 and r<=0.7:\r\n",
        "    train_set.append(s)\r\n",
        "  elif r>0.7 and r<=0.85:\r\n",
        "    val_set.append(s)\r\n",
        "  else:\r\n",
        "    test_set.append(s)"
      ],
      "execution_count": null,
      "outputs": []
    },
    {
      "cell_type": "code",
      "metadata": {
        "id": "dsOoCL_oo3Ml",
        "colab": {
          "base_uri": "https://localhost:8080/"
        },
        "outputId": "97d35cfd-c418-4949-b092-f4510915ceaa"
      },
      "source": [
        "correct=0\r\n",
        "k=17\r\n",
        "s_class=[]\r\n",
        "sample_distance={}\r\n",
        "for v in val_set:\r\n",
        "  for t in train_set:\r\n",
        "    temp_v=v.copy()\r\n",
        "    temp_t=t.copy()\r\n",
        "    temp_v.pop()\r\n",
        "    temp_t.pop()\r\n",
        "    dist=distance.euclidean(temp_v,temp_t)\r\n",
        "    sample_distance[dist]=t\r\n",
        "  sorted_dict = dict(sorted(sample_distance.items(), key=operator.itemgetter(0)))\r\n",
        "  dict_items = sorted_dict.items()\r\n",
        "  first_kth = list(dict_items)[:k]\r\n",
        "\r\n",
        "  for i in first_kth:\r\n",
        "    s_class.append(i[1][4])\r\n",
        "  res = statistics.mode(s_class)\r\n",
        "  if v[4]==res:\r\n",
        "    correct+=1\r\n",
        "  s_class=[]\r\n",
        "v_accuracy=(correct/len(val_set))*100\r\n",
        "print(f'validation accuracy: {v_accuracy}')\r\n",
        "\r\n",
        "\r\n"
      ],
      "execution_count": null,
      "outputs": [
        {
          "output_type": "stream",
          "text": [
            "validation accuracy: 42.30769230769231\n"
          ],
          "name": "stdout"
        }
      ]
    },
    {
      "cell_type": "code",
      "metadata": {
        "colab": {
          "base_uri": "https://localhost:8080/"
        },
        "id": "pLygtxCoSDFG",
        "outputId": "7f0d75e8-b182-4211-9072-33b6cb1c67cf"
      },
      "source": [
        "correct=0\r\n",
        "k=17\r\n",
        "s_class=[]\r\n",
        "for v in test_set:\r\n",
        "  for t in train_set:\r\n",
        "    temp_v=v.copy()\r\n",
        "    temp_t=t.copy()\r\n",
        "    temp_v.pop()\r\n",
        "    temp_t.pop()\r\n",
        "    dist=distance.euclidean(temp_v,temp_t)\r\n",
        "    sample_distance[dist]=t\r\n",
        "  sorted_dict = dict(sorted(sample_distance.items(), key=operator.itemgetter(0)))\r\n",
        "  dict_items = sorted_dict.items()\r\n",
        "  first_kth = list(dict_items)[:k]\r\n",
        "  for i in first_kth:\r\n",
        "    s_class.append(i[1][4])\r\n",
        "  res = statistics.mode(s_class)\r\n",
        "  if v[4]==res:\r\n",
        "    correct+=1\r\n",
        "  s_class=[]\r\n",
        "t_accuracy=(correct/len(test_set))*100\r\n",
        "print(f'Test accuracy: {t_accuracy}')\r\n",
        "print(f'Total correct: {correct}')"
      ],
      "execution_count": null,
      "outputs": [
        {
          "output_type": "stream",
          "text": [
            "Test accuracy: 44.44444444444444\n",
            "Total correct: 8\n"
          ],
          "name": "stdout"
        }
      ]
    }
  ]
}