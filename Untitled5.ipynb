{
  "nbformat": 4,
  "nbformat_minor": 0,
  "metadata": {
    "colab": {
      "name": "Untitled5.ipynb",
      "provenance": [],
      "authorship_tag": "ABX9TyOiFYiQrSlFJwaxstCZ5T6Z",
      "include_colab_link": true
    },
    "kernelspec": {
      "name": "python3",
      "display_name": "Python 3"
    }
  },
  "cells": [
    {
      "cell_type": "markdown",
      "metadata": {
        "id": "view-in-github",
        "colab_type": "text"
      },
      "source": [
        "<a href=\"https://colab.research.google.com/github/devshaik444/AI-LAB/blob/master/Untitled5.ipynb\" target=\"_parent\"><img src=\"https://colab.research.google.com/assets/colab-badge.svg\" alt=\"Open In Colab\"/></a>"
      ]
    },
    {
      "cell_type": "code",
      "metadata": {
        "colab": {
          "base_uri": "https://localhost:8080/"
        },
        "id": "ZFRRrG7y-vx7",
        "outputId": "87603b46-15f3-44ae-821f-b2475777223b"
      },
      "source": [
        "###ASSIGNMENT-1(AI LAB)\n",
        "class Graph(object):\n",
        "\n",
        "    def __init__(self, adjacency_list):\n",
        "        self.adjacency_list = adjacency_list\n",
        "\n",
        "    def get_Neighbours(self, v): \n",
        "        return self.adjacency_list[v]#\n",
        "\n",
        "    def huristic(self, n):\n",
        "        hu = {\n",
        "            'S': 7, 'A': 6, 'B': 2, 'C': 1, 'D': 0\n",
        "        }\n",
        "        return hu[n]\n",
        "\n",
        "    def a_star_algorithm(self, start_n, stop_n):\n",
        "        open_list = set([start_n]) #set \n",
        "        close_list = set([])\n",
        "        g = {start_n: 0}\n",
        "\n",
        "        parents = {start_n: start_n}\n",
        "\n",
        "        while len(open_list) > 0:\n",
        "            n = None\n",
        "\n",
        "            for v in open_list:\n",
        "                if n == None or g[v] + self.huristic(v) < g[n] + self.huristic(n):\n",
        "                    n = v\n",
        "\n",
        "            if n == None:\n",
        "                print(\"Path can not found\")\n",
        "                return None\n",
        "\n",
        "            if n == stop_n:\n",
        "                c_path = []\n",
        "\n",
        "                while parents[n] != n:\n",
        "                    c_path.append(n)\n",
        "                    n = parents[n]\n",
        "\n",
        "                c_path.append(start_n)\n",
        "                c_path.reverse()\n",
        "                print(\"\\n The optimal path: \", c_path)\n",
        "                print(\"The optimal cost: \", g[v])\n",
        "                return c_path\n",
        "            for (m, weight) in self.get_Neighbours(n): #m index no.\n",
        "                if m not in open_list and m not in close_list:\n",
        "                    open_list.add(m)\n",
        "                    parents[m] = n\n",
        "                    g[m] = g[n] + weight\n",
        "\n",
        "                else:\n",
        "                    if g[m] > g[n] + weight:\n",
        "                        g[m] = g[n] + weight\n",
        "                        parents[m] = n\n",
        "                        if m in close_list:\n",
        "                            close_list.remove(m)\n",
        "                            open_list.add(m)\n",
        "            open_list.remove(n)\n",
        "            close_list.add(n)\n",
        "\n",
        "\n",
        "\n",
        "adjacncy_list = {\n",
        "      'S': [('A', 1), ('B', 4)],\n",
        "      'A': [('B', 2), ('C', 5), ('D', 12)],\n",
        "      'B': [('C', 2)],\n",
        "      'C': [('D', 3)],\n",
        "    }\n",
        "graph = Graph( adjacncy_list)\n",
        "graph.a_star_algorithm('S', 'D')\n",
        "\n",
        "\n"
      ],
      "execution_count": 3,
      "outputs": [
        {
          "output_type": "stream",
          "text": [
            "\n",
            " The optimal path:  ['S', 'A', 'B', 'C', 'D']\n",
            "The optimal cost:  8\n"
          ],
          "name": "stdout"
        },
        {
          "output_type": "execute_result",
          "data": {
            "text/plain": [
              "['S', 'A', 'B', 'C', 'D']"
            ]
          },
          "metadata": {
            "tags": []
          },
          "execution_count": 3
        }
      ]
    },
    {
      "cell_type": "code",
      "metadata": {
        "id": "EybSGAmTBjIM"
      },
      "source": [
        "class MinPriorityQueue:\n",
        "  \n",
        "  def __init__(self):\n",
        "    self.queue = list()\n",
        "    # if you want you can set a maximum size for the queue\n",
        "    \n",
        "  def push(self, node):\n",
        "    # if queue is empty\n",
        "    if self.size() == 0:\n",
        "      # add the new node\n",
        "      self.queue.append(node)\n",
        "    else:\n",
        "      # traverse the queue to find the right place for new node\n",
        "      for x in range(0, self.size()):\n",
        "        # if the priority of new node is greater\n",
        "        if node.f >= self.queue[x].f:\n",
        "          # if we have traversed the complete queue\n",
        "          if x == (self.size()-1):\n",
        "            # add new node at the end\n",
        "            self.queue.insert(x+1, node)\n",
        "          else:\n",
        "            continue\n",
        "        else:\n",
        "          self.queue.insert(x, node)\n",
        "          return True\n",
        "  \n",
        "  def pop(self):\n",
        "    # remove the first node from the queue\n",
        "    return self.queue.pop(0)\n",
        "    \n",
        "  def show(self):\n",
        "    for x in self.queue:\n",
        "      print(str(x.info) + \" - \" + str(x.priority))\n",
        "  \n",
        "  def size(self):\n",
        "    return len(self.queue)"
      ],
      "execution_count": null,
      "outputs": []
    }
  ]
}